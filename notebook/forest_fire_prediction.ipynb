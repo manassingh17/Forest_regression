{
 "cells": [
  {
   "cell_type": "code",
   "execution_count": 4,
   "metadata": {},
   "outputs": [
    {
     "name": "stdout",
     "output_type": "stream",
     "text": [
      "Root Mean Squared Error: 1.5237110838614512\n",
      "Mean Absolute Error: 1.2159976105646635\n",
      "R-squared: -0.056342899945638125\n"
     ]
    }
   ],
   "source": [
    "import pandas as pd\n",
    "import numpy as np\n",
    "from sklearn.model_selection import train_test_split\n",
    "from sklearn.ensemble import RandomForestRegressor\n",
    "from sklearn.metrics import mean_squared_error, mean_absolute_error, r2_score\n",
    "import joblib\n",
    "\n",
    "data = pd.read_csv('../dataset/forestfires.csv')\n",
    "data['month'] = data['month'].astype('category').cat.codes\n",
    "data['day'] = data['day'].astype('category').cat.codes\n",
    "data['log_area'] = np.log(data['area'] + 1)\n",
    "\n",
    "X = data.drop(columns=['area', 'log_area'])\n",
    "y = data['log_area']\n",
    "\n",
    "X_train, X_test, y_train, y_test = train_test_split(X, y, test_size=0.2, random_state=42)\n",
    "\n",
    "model = RandomForestRegressor(n_estimators=100, random_state=42)\n",
    "model.fit(X_train, y_train)\n",
    "\n",
    "joblib.dump(model, '../models/model.pkl')\n",
    "\n",
    "predictions = model.predict(X_test)\n",
    "rmse = np.sqrt(mean_squared_error(y_test, predictions))\n",
    "mae = mean_absolute_error(y_test, predictions)\n",
    "r2 = r2_score(y_test, predictions)\n",
    "\n",
    "print(f'Root Mean Squared Error: {rmse}')\n",
    "print(f'Mean Absolute Error: {mae}')\n",
    "print(f'R-squared: {r2}')\n"
   ]
  },
  {
   "cell_type": "code",
   "execution_count": 5,
   "metadata": {},
   "outputs": [
    {
     "name": "stdout",
     "output_type": "stream",
     "text": [
      "Best Parameters: {'learning_rate': 0.01, 'max_depth': 3, 'n_estimators': 100}\n",
      "Root Mean Squared Error: 1.4618640558994027\n",
      "Mean Absolute Error: 1.1921377871243348\n",
      "R-squared: 0.027670102269433228\n"
     ]
    }
   ],
   "source": [
    "import pandas as pd\n",
    "import numpy as np\n",
    "from sklearn.model_selection import train_test_split, GridSearchCV\n",
    "from sklearn.ensemble import GradientBoostingRegressor\n",
    "from sklearn.metrics import mean_squared_error, mean_absolute_error, r2_score\n",
    "import joblib\n",
    "\n",
    "# Load dataset\n",
    "data = pd.read_csv('../dataset/forestfires.csv')\n",
    "\n",
    "# Data Preprocessing\n",
    "data['month'] = data['month'].astype('category').cat.codes\n",
    "data['day'] = data['day'].astype('category').cat.codes\n",
    "data['log_area'] = np.log(data['area'] + 1)\n",
    "\n",
    "# Split data into features and target\n",
    "X = data.drop(columns=['area', 'log_area'])\n",
    "y = data['log_area']\n",
    "\n",
    "# Split dataset\n",
    "X_train, X_test, y_train, y_test = train_test_split(X, y, test_size=0.2, random_state=42)\n",
    "\n",
    "# Set up the model and parameter grid for tuning\n",
    "model = GradientBoostingRegressor(random_state=42)\n",
    "param_grid = {\n",
    "    'n_estimators': [100, 200],\n",
    "    'learning_rate': [0.01, 0.1, 0.2],\n",
    "    'max_depth': [3, 5, 7]\n",
    "}\n",
    "\n",
    "# Perform Grid Search with Cross-Validation\n",
    "grid_search = GridSearchCV(estimator=model, param_grid=param_grid, cv=5, scoring='neg_mean_squared_error', n_jobs=-1)\n",
    "grid_search.fit(X_train, y_train)\n",
    "\n",
    "# Use the best model from Grid Search\n",
    "best_model = grid_search.best_estimator_\n",
    "joblib.dump(best_model, '../models/gradient_boosting_model.pkl')\n",
    "\n",
    "# Evaluate the model\n",
    "predictions = best_model.predict(X_test)\n",
    "rmse = np.sqrt(mean_squared_error(y_test, predictions))\n",
    "mae = mean_absolute_error(y_test, predictions)\n",
    "r2 = r2_score(y_test, predictions)\n",
    "\n",
    "print(f'Best Parameters: {grid_search.best_params_}')\n",
    "print(f'Root Mean Squared Error: {rmse}')\n",
    "print(f'Mean Absolute Error: {mae}')\n",
    "print(f'R-squared: {r2}')\n"
   ]
  },
  {
   "cell_type": "code",
   "execution_count": 7,
   "metadata": {},
   "outputs": [
    {
     "name": "stdout",
     "output_type": "stream",
     "text": [
      "Fitting 5 folds for each of 20 candidates, totalling 100 fits\n",
      "Best Parameters: {'subsample': 0.6, 'n_estimators': 100, 'max_depth': 5, 'learning_rate': 0.01, 'colsample_bytree': 0.6}\n",
      "Root Mean Squared Error: 1.4778049086585063\n",
      "Mean Absolute Error: 1.2009715519117807\n",
      "R-squared: 0.006349000561891027\n"
     ]
    }
   ],
   "source": [
    "import xgboost as xgb\n",
    "from sklearn.model_selection import RandomizedSearchCV\n",
    "\n",
    "# Set up the XGBoost model and parameter grid\n",
    "xgb_model = xgb.XGBRegressor(objective='reg:squarederror', random_state=42)\n",
    "\n",
    "param_dist = {\n",
    "    'n_estimators': [100, 200, 300],\n",
    "    'learning_rate': [0.01, 0.05, 0.1, 0.2],\n",
    "    'max_depth': [3, 5, 7, 10],\n",
    "    'subsample': [0.6, 0.8, 1.0],\n",
    "    'colsample_bytree': [0.6, 0.8, 1.0]\n",
    "}\n",
    "\n",
    "# RandomizedSearchCV for quicker tuning\n",
    "random_search = RandomizedSearchCV(estimator=xgb_model, param_distributions=param_dist, \n",
    "                                   scoring='neg_mean_squared_error', n_iter=20, cv=5, \n",
    "                                   verbose=1, random_state=42, n_jobs=-1)\n",
    "random_search.fit(X_train, y_train)\n",
    "\n",
    "# Select the best model from Random Search\n",
    "best_xgb_model = random_search.best_estimator_\n",
    "joblib.dump(best_xgb_model, '../models/best_xgb_model.pkl')\n",
    "\n",
    "# Evaluate the model\n",
    "xgb_predictions = best_xgb_model.predict(X_test)\n",
    "xgb_rmse = np.sqrt(mean_squared_error(y_test, xgb_predictions))\n",
    "xgb_mae = mean_absolute_error(y_test, xgb_predictions)\n",
    "xgb_r2 = r2_score(y_test, xgb_predictions)\n",
    "\n",
    "print(f'Best Parameters: {random_search.best_params_}')\n",
    "print(f'Root Mean Squared Error: {xgb_rmse}')\n",
    "print(f'Mean Absolute Error: {xgb_mae}')\n",
    "print(f'R-squared: {xgb_r2}')\n"
   ]
  }
 ],
 "metadata": {
  "kernelspec": {
   "display_name": "venv",
   "language": "python",
   "name": "python3"
  },
  "language_info": {
   "codemirror_mode": {
    "name": "ipython",
    "version": 3
   },
   "file_extension": ".py",
   "mimetype": "text/x-python",
   "name": "python",
   "nbconvert_exporter": "python",
   "pygments_lexer": "ipython3",
   "version": "3.12.5"
  }
 },
 "nbformat": 4,
 "nbformat_minor": 2
}
